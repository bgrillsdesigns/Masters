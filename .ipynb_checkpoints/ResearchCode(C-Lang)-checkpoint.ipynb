{
 "cells": [
  {
   "cell_type": "code",
   "execution_count": 1,
   "metadata": {},
   "outputs": [
    {
     "name": "stdout",
     "output_type": "stream",
     "text": [
      "foo\n",
      "bar\n"
     ]
    },
    {
     "ename": "TypeError",
     "evalue": "cannot unpack non-iterable NoneType object",
     "output_type": "error",
     "traceback": [
      "\u001b[1;31m---------------------------------------------------------------------------\u001b[0m",
      "\u001b[1;31mTypeError\u001b[0m                                 Traceback (most recent call last)",
      "\u001b[1;32m<ipython-input-1-715231ba88d2>\u001b[0m in \u001b[0;36m<module>\u001b[1;34m\u001b[0m\n\u001b[0;32m     71\u001b[0m     \u001b[1;32mpass\u001b[0m\u001b[1;33m\u001b[0m\u001b[1;33m\u001b[0m\u001b[0m\n\u001b[0;32m     72\u001b[0m \u001b[1;33m\u001b[0m\u001b[0m\n\u001b[1;32m---> 73\u001b[1;33m \u001b[0mCheckForComments\u001b[0m\u001b[1;33m(\u001b[0m\u001b[0minFileR\u001b[0m\u001b[1;33m,\u001b[0m \u001b[0mqFile\u001b[0m\u001b[1;33m,\u001b[0m \u001b[0moFile\u001b[0m\u001b[1;33m)\u001b[0m\u001b[1;33m\u001b[0m\u001b[1;33m\u001b[0m\u001b[0m\n\u001b[0m\u001b[0;32m     74\u001b[0m \u001b[1;33m\u001b[0m\u001b[0m\n\u001b[0;32m     75\u001b[0m \u001b[0minFileR\u001b[0m\u001b[1;33m.\u001b[0m\u001b[0mclose\u001b[0m\u001b[1;33m(\u001b[0m\u001b[1;33m)\u001b[0m\u001b[1;33m\u001b[0m\u001b[1;33m\u001b[0m\u001b[0m\n",
      "\u001b[1;32m<ipython-input-1-715231ba88d2>\u001b[0m in \u001b[0;36mCheckForComments\u001b[1;34m(inFileR, qFile, oFile)\u001b[0m\n\u001b[0;32m     31\u001b[0m             \u001b[1;32mif\u001b[0m \u001b[0mline\u001b[0m\u001b[1;33m[\u001b[0m\u001b[0mi\u001b[0m\u001b[1;33m:\u001b[0m\u001b[0mi\u001b[0m\u001b[1;33m+\u001b[0m\u001b[1;36m2\u001b[0m\u001b[1;33m]\u001b[0m \u001b[1;33m==\u001b[0m \u001b[1;34m\"/*\"\u001b[0m \u001b[1;33m:\u001b[0m\u001b[1;33m\u001b[0m\u001b[1;33m\u001b[0m\u001b[0m\n\u001b[0;32m     32\u001b[0m                 \u001b[0mprint\u001b[0m\u001b[1;33m(\u001b[0m\u001b[1;34m\"foo\"\u001b[0m\u001b[1;33m)\u001b[0m\u001b[1;33m\u001b[0m\u001b[1;33m\u001b[0m\u001b[0m\n\u001b[1;32m---> 33\u001b[1;33m                 \u001b[0mtempHigh\u001b[0m\u001b[1;33m,\u001b[0m \u001b[0mtempStringArray\u001b[0m \u001b[1;33m=\u001b[0m \u001b[0mCommentBlockCheck\u001b[0m\u001b[1;33m(\u001b[0m\u001b[0mlowLine\u001b[0m\u001b[1;33m,\u001b[0m \u001b[0minFileR\u001b[0m\u001b[1;33m)\u001b[0m\u001b[1;33m\u001b[0m\u001b[1;33m\u001b[0m\u001b[0m\n\u001b[0m\u001b[0;32m     34\u001b[0m                 \u001b[1;32mif\u001b[0m \u001b[0mtempHigh\u001b[0m \u001b[1;33m!=\u001b[0m \u001b[1;36m0\u001b[0m \u001b[1;33m:\u001b[0m\u001b[1;33m\u001b[0m\u001b[1;33m\u001b[0m\u001b[0m\n\u001b[0;32m     35\u001b[0m                     \u001b[0mquarentineContainer\u001b[0m\u001b[1;33m.\u001b[0m\u001b[0mappend\u001b[0m\u001b[1;33m(\u001b[0m\u001b[0mtempStringArray\u001b[0m\u001b[1;33m)\u001b[0m\u001b[1;33m\u001b[0m\u001b[1;33m\u001b[0m\u001b[0m\n",
      "\u001b[1;31mTypeError\u001b[0m: cannot unpack non-iterable NoneType object"
     ]
    }
   ],
   "source": [
    "#Author: Blake Grills\n",
    "#This program is being used to analyze c-lang code \n",
    "#in order to find quarentine and then rebuild a program\n",
    "#of all commented out codes\n",
    "\n",
    "import sys\n",
    "\n",
    "#infile = open(sys.argv[-1], \"rw\")\n",
    "inFileR = open(\"TestingProgram.cpp\", \"r\")\n",
    "oFile = open(\"CleanedProgram.cpp\", \"w\")\n",
    "qFile = open(\"quarentine.md\", \"w\")\n",
    "\n",
    "def CheckForComments(inFileR, qFile, oFile) :\n",
    "    lowLine = 0\n",
    "    highLine = 0\n",
    "    tempLow = 0\n",
    "    tempHigh = 0\n",
    "    tempStringArray = []\n",
    "    quarentineContainer = []\n",
    "    lowLineContainer = []\n",
    "    highLineContainer = []\n",
    "    for line in inFileR :\n",
    "        lowLine = lowLine + 1\n",
    "        for i in range(0, line.__len__()) :\n",
    "            if line[i:i+2] == \"//\" :\n",
    "                for j in range(0, line.__len__()) :\n",
    "                    if line[j:j+1] == \";\" :\n",
    "                        quarentineContainer.append(line)\n",
    "                        lowLineContainer.append(str(lowLine))\n",
    "                        highLineContainer.append(str(highLine))\n",
    "            if line[i:i+2] == \"/*\" :\n",
    "                print(\"foo\")\n",
    "                tempHigh, tempStringArray = CommentBlockCheck(lowLine, inFileR)\n",
    "                if tempHigh != 0 :     \n",
    "                    quarentineContainer.append(tempStringArray)\n",
    "                    lowLineContainer.append(str(lowLine))\n",
    "                    highLineContainer.append(str(tempHigh))\n",
    "    \n",
    "    Quarentine(oFile, qFile, quarentineContainer, lowLineContainer, highLineContainer)\n",
    "\n",
    "def CommentBlockCheck(lowLine, inFileR) :\n",
    "    print(\"bar\")\n",
    "    tempLow = 0\n",
    "    tempHigh = 0\n",
    "    tempStringArray = []\n",
    "    for line in inFileR :\n",
    "        tempLow = tempLow + 1\n",
    "        if tempLow >= lowLine :\n",
    "            for i in range(0, line.__len__()) :\n",
    "                if line[i:i+1] == \";\" :\n",
    "                    tempStringArray.append(line)\n",
    "                    tempHigh = tempLow\n",
    "                if line[i:i+2] == \"*/\" and tempHigh != 0 :\n",
    "                    tempStringArray.append(line)\n",
    "                    tempHigh = tempLow\n",
    "                    return tempHigh, tempStringArray\n",
    "                elif line[i:i+2] == \"*/\" and tempHigh == 0 :\n",
    "                    return 0, []\n",
    "                    \n",
    "    \n",
    "def Quarentine(oFile, qFile, quarentineContainer, lowLineContainer, highLineContainer) :\n",
    "    for i in range(0, quarentineContainer.__len__()) :\n",
    "        qFile.write(\"The commented code began at line \" + lowLineContainer[i] + \" and ended at line \" + highLineContainer[i] + \"\\n\")\n",
    "        qFile.write(\"The commented code is shown below:\" + \"\\n\")\n",
    "        qFile.write(quarentineContainer[i] + \"\\n \\n\")\n",
    "    \n",
    "    BuildClean(inFileR, oFile, lowLineContainer, highLineContainer)\n",
    "        \n",
    "\n",
    "def BuildClean(inFileR, oFile, lowLineContainer, highLineContainer) :\n",
    "    pass\n",
    "\n",
    "CheckForComments(inFileR, qFile, oFile)\n",
    "\n",
    "inFileR.close()\n",
    "oFile.close()\n",
    "qFile.close()"
   ]
  },
  {
   "cell_type": "code",
   "execution_count": null,
   "metadata": {},
   "outputs": [],
   "source": []
  },
  {
   "cell_type": "code",
   "execution_count": null,
   "metadata": {},
   "outputs": [],
   "source": []
  }
 ],
 "metadata": {
  "kernelspec": {
   "display_name": "Python 3",
   "language": "python",
   "name": "python3"
  },
  "language_info": {
   "codemirror_mode": {
    "name": "ipython",
    "version": 3
   },
   "file_extension": ".py",
   "mimetype": "text/x-python",
   "name": "python",
   "nbconvert_exporter": "python",
   "pygments_lexer": "ipython3",
   "version": "3.7.1"
  }
 },
 "nbformat": 4,
 "nbformat_minor": 2
}
